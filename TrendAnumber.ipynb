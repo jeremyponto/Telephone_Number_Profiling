{
 "cells": [
  {
   "cell_type": "markdown",
   "id": "33abc401",
   "metadata": {},
   "source": [
    "# TrendAnumber"
   ]
  },
  {
   "cell_type": "code",
   "execution_count": 1,
   "id": "d0beea94",
   "metadata": {},
   "outputs": [],
   "source": [
    "import pandas as pd\n",
    "import matplotlib.pyplot as plt\n",
    "import seaborn as sns"
   ]
  },
  {
   "cell_type": "markdown",
   "id": "8d6506a4",
   "metadata": {},
   "source": [
    "## Dataset"
   ]
  },
  {
   "cell_type": "code",
   "execution_count": 2,
   "id": "26b2ab5a",
   "metadata": {},
   "outputs": [
    {
     "data": {
      "text/html": [
       "<div>\n",
       "<style scoped>\n",
       "    .dataframe tbody tr th:only-of-type {\n",
       "        vertical-align: middle;\n",
       "    }\n",
       "\n",
       "    .dataframe tbody tr th {\n",
       "        vertical-align: top;\n",
       "    }\n",
       "\n",
       "    .dataframe thead th {\n",
       "        text-align: right;\n",
       "    }\n",
       "</style>\n",
       "<table border=\"1\" class=\"dataframe\">\n",
       "  <thead>\n",
       "    <tr style=\"text-align: right;\">\n",
       "      <th></th>\n",
       "      <th>tanggal</th>\n",
       "      <th>orig_number</th>\n",
       "      <th>Total_Records</th>\n",
       "      <th>Total_Duration_perSecond</th>\n",
       "    </tr>\n",
       "  </thead>\n",
       "  <tbody>\n",
       "    <tr>\n",
       "      <th>0</th>\n",
       "      <td>2022-06-06</td>\n",
       "      <td>622129265555</td>\n",
       "      <td>25783</td>\n",
       "      <td>0</td>\n",
       "    </tr>\n",
       "    <tr>\n",
       "      <th>1</th>\n",
       "      <td>2022-06-06</td>\n",
       "      <td>622180648787</td>\n",
       "      <td>14452</td>\n",
       "      <td>0</td>\n",
       "    </tr>\n",
       "    <tr>\n",
       "      <th>2</th>\n",
       "      <td>2022-06-06</td>\n",
       "      <td>622129294688</td>\n",
       "      <td>10374</td>\n",
       "      <td>0</td>\n",
       "    </tr>\n",
       "    <tr>\n",
       "      <th>3</th>\n",
       "      <td>2022-06-06</td>\n",
       "      <td>12024558888</td>\n",
       "      <td>3620</td>\n",
       "      <td>0</td>\n",
       "    </tr>\n",
       "    <tr>\n",
       "      <th>4</th>\n",
       "      <td>2022-06-06</td>\n",
       "      <td>17147073350</td>\n",
       "      <td>3404</td>\n",
       "      <td>0</td>\n",
       "    </tr>\n",
       "    <tr>\n",
       "      <th>...</th>\n",
       "      <td>...</td>\n",
       "      <td>...</td>\n",
       "      <td>...</td>\n",
       "      <td>...</td>\n",
       "    </tr>\n",
       "    <tr>\n",
       "      <th>224802</th>\n",
       "      <td>2022-06-06</td>\n",
       "      <td>9647717952537</td>\n",
       "      <td>1</td>\n",
       "      <td>0</td>\n",
       "    </tr>\n",
       "    <tr>\n",
       "      <th>224803</th>\n",
       "      <td>2022-06-06</td>\n",
       "      <td>60142450197</td>\n",
       "      <td>1</td>\n",
       "      <td>0</td>\n",
       "    </tr>\n",
       "    <tr>\n",
       "      <th>224804</th>\n",
       "      <td>2022-06-06</td>\n",
       "      <td>9619466782</td>\n",
       "      <td>1</td>\n",
       "      <td>0</td>\n",
       "    </tr>\n",
       "    <tr>\n",
       "      <th>224805</th>\n",
       "      <td>2022-06-06</td>\n",
       "      <td>60187822715</td>\n",
       "      <td>1</td>\n",
       "      <td>0</td>\n",
       "    </tr>\n",
       "    <tr>\n",
       "      <th>224806</th>\n",
       "      <td>2022-06-06</td>\n",
       "      <td>19712021768</td>\n",
       "      <td>1</td>\n",
       "      <td>0</td>\n",
       "    </tr>\n",
       "  </tbody>\n",
       "</table>\n",
       "<p>224807 rows × 4 columns</p>\n",
       "</div>"
      ],
      "text/plain": [
       "          tanggal    orig_number  Total_Records  Total_Duration_perSecond\n",
       "0      2022-06-06   622129265555          25783                         0\n",
       "1      2022-06-06   622180648787          14452                         0\n",
       "2      2022-06-06   622129294688          10374                         0\n",
       "3      2022-06-06    12024558888           3620                         0\n",
       "4      2022-06-06    17147073350           3404                         0\n",
       "...           ...            ...            ...                       ...\n",
       "224802 2022-06-06  9647717952537              1                         0\n",
       "224803 2022-06-06    60142450197              1                         0\n",
       "224804 2022-06-06     9619466782              1                         0\n",
       "224805 2022-06-06    60187822715              1                         0\n",
       "224806 2022-06-06    19712021768              1                         0\n",
       "\n",
       "[224807 rows x 4 columns]"
      ]
     },
     "execution_count": 2,
     "metadata": {},
     "output_type": "execute_result"
    }
   ],
   "source": [
    "df = pd.read_excel('TrendAnumber.xlsx', 'Sheet1')\n",
    "df"
   ]
  },
  {
   "cell_type": "code",
   "execution_count": 3,
   "id": "48802b47",
   "metadata": {},
   "outputs": [
    {
     "name": "stdout",
     "output_type": "stream",
     "text": [
      "<class 'pandas.core.frame.DataFrame'>\n",
      "RangeIndex: 224807 entries, 0 to 224806\n",
      "Data columns (total 4 columns):\n",
      " #   Column                    Non-Null Count   Dtype         \n",
      "---  ------                    --------------   -----         \n",
      " 0   tanggal                   224807 non-null  datetime64[ns]\n",
      " 1   orig_number               224807 non-null  int64         \n",
      " 2   Total_Records             224807 non-null  int64         \n",
      " 3   Total_Duration_perSecond  224807 non-null  int64         \n",
      "dtypes: datetime64[ns](1), int64(3)\n",
      "memory usage: 6.9 MB\n"
     ]
    }
   ],
   "source": [
    "df.info()"
   ]
  },
  {
   "cell_type": "code",
   "execution_count": 4,
   "id": "847fcdb4",
   "metadata": {},
   "outputs": [
    {
     "name": "stdout",
     "output_type": "stream",
     "text": [
      "<class 'pandas.core.frame.DataFrame'>\n",
      "RangeIndex: 224807 entries, 0 to 224806\n",
      "Data columns (total 4 columns):\n",
      " #   Column                    Non-Null Count   Dtype         \n",
      "---  ------                    --------------   -----         \n",
      " 0   tanggal                   224807 non-null  datetime64[ns]\n",
      " 1   orig_number               224807 non-null  object        \n",
      " 2   Total_Records             224807 non-null  int64         \n",
      " 3   Total_Duration_perSecond  224807 non-null  int64         \n",
      "dtypes: datetime64[ns](1), int64(2), object(1)\n",
      "memory usage: 6.9+ MB\n"
     ]
    }
   ],
   "source": [
    "df['orig_number'] = df['orig_number'].astype('str')\n",
    "df.info()"
   ]
  },
  {
   "cell_type": "markdown",
   "id": "a512d8dc",
   "metadata": {},
   "source": [
    "## orig_number Value Counts"
   ]
  },
  {
   "cell_type": "code",
   "execution_count": 5,
   "id": "308366e7",
   "metadata": {},
   "outputs": [
    {
     "data": {
      "image/png": "[encoded data removed]",
      "text/plain": [
       "<Figure size 432x288 with 1 Axes>"
      ]
     },
     "metadata": {
      "needs_background": "light"
     },
     "output_type": "display_data"
    }
   ],
   "source": [
    "zero = df[df['orig_number'].str.startswith('0')].shape[0]\n",
    "one = df[df['orig_number'].str.startswith('1')].shape[0]\n",
    "two = df[df['orig_number'].str.startswith('2')].shape[0]\n",
    "three = df[df['orig_number'].str.startswith('3')].shape[0]\n",
    "four = df[df['orig_number'].str.startswith('4')].shape[0]\n",
    "five = df[df['orig_number'].str.startswith('5')].shape[0]\n",
    "six = df[df['orig_number'].str.startswith('6')].shape[0]\n",
    "seven = df[df['orig_number'].str.startswith('7')].shape[0]\n",
    "eight = df[df['orig_number'].str.startswith('8')].shape[0]\n",
    "nine = df[df['orig_number'].str.startswith('9')].shape[0]\n",
    "\n",
    "ax = sns.barplot(x=['0', '1', '2', '3', '4', '5', '6', '7', '8', '9'], y=[zero, one, two, three, four, five, six, seven, eight, nine], data=df)\n",
    "ax.bar_label(ax.containers[0])\n",
    "plt.xlabel('orig_number')\n",
    "plt.ylabel('Count')\n",
    "plt.show()"
   ]
  },
  {
   "cell_type": "markdown",
   "id": "be3db5ad",
   "metadata": {},
   "source": [
    "## Total_Records Value Counts"
   ]
  },
  {
   "cell_type": "code",
   "execution_count": 6,
   "id": "c44343de",
   "metadata": {},
   "outputs": [
    {
     "data": {
      "image/png": "[encoded data removed]",
      "text/plain": [
       "<Figure size 432x288 with 1 Axes>"
      ]
     },
     "metadata": {
      "needs_background": "light"
     },
     "output_type": "display_data"
    }
   ],
   "source": [
    "one = df[df['Total_Records'] == 1].shape[0]\n",
    "more_than_one = df[df['Total_Records'] > 1].shape[0]\n",
    "\n",
    "ax = sns.barplot(x=['1', '> 1'], y=[one, more_than_one], data=df)\n",
    "ax.bar_label(ax.containers[0])\n",
    "plt.xlabel('Total_Records')\n",
    "plt.ylabel('Count')\n",
    "plt.show()"
   ]
  },
  {
   "cell_type": "markdown",
   "id": "c1f04a20",
   "metadata": {},
   "source": [
    "## Total_Records Distribution"
   ]
  },
  {
   "cell_type": "code",
   "execution_count": 7,
   "id": "7e512ef7",
   "metadata": {
    "scrolled": false
   },
   "outputs": [
    {
     "data": {
      "image/png": "[encoded data removed]",
      "text/plain": [
       "<Figure size 432x288 with 1 Axes>"
      ]
     },
     "metadata": {
      "needs_background": "light"
     },
     "output_type": "display_data"
    }
   ],
   "source": [
    "sns.histplot(x='Total_Records', data=df)\n",
    "plt.show()"
   ]
  },
  {
   "cell_type": "markdown",
   "id": "21c5a27c",
   "metadata": {},
   "source": [
    "## Total_Records Outliers"
   ]
  },
  {
   "cell_type": "code",
   "execution_count": 8,
   "id": "c20dae7a",
   "metadata": {
    "scrolled": true
   },
   "outputs": [
    {
     "data": {
      "image/png": "[encoded data removed]",
      "text/plain": [
       "<Figure size 432x288 with 1 Axes>"
      ]
     },
     "metadata": {
      "needs_background": "light"
     },
     "output_type": "display_data"
    }
   ],
   "source": [
    "sns.boxplot(y='Total_Records', data=df)\n",
    "plt.xlabel('Total_Records')\n",
    "plt.ylabel('Value')\n",
    "plt.show()"
   ]
  },
  {
   "cell_type": "code",
   "execution_count": 9,
   "id": "e498febd",
   "metadata": {},
   "outputs": [
    {
     "data": {
      "image/png": "[encoded data removed]",
      "text/plain": [
       "<Figure size 432x288 with 1 Axes>"
      ]
     },
     "metadata": {
      "needs_background": "light"
     },
     "output_type": "display_data"
    }
   ],
   "source": [
    "Q1 = df['Total_Records'].quantile(0.25)\n",
    "Q3 = df['Total_Records'].quantile(0.75)\n",
    "IQR = Q3 - Q1\n",
    "\n",
    "outlier = ((df['Total_Records'] < (Q1 - 1.5 * IQR)) | (df['Total_Records'] > (Q3 + 1.5 * IQR))).sum()\n",
    "non_outlier = df.shape[0] - outlier\n",
    "\n",
    "ax = sns.barplot(x=['Non-Outlier', 'Outlier'], y=[non_outlier, outlier], data=df)\n",
    "ax.bar_label(ax.containers[0])\n",
    "plt.xlabel('Total_Records')\n",
    "plt.ylabel('Count')\n",
    "plt.show()"
   ]
  },
  {
   "cell_type": "code",
   "execution_count": 10,
   "id": "79c3cd1f",
   "metadata": {},
   "outputs": [
    {
     "data": {
      "image/png": "[encoded data removed]",
      "text/plain": [
       "<Figure size 432x288 with 1 Axes>"
      ]
     },
     "metadata": {},
     "output_type": "display_data"
    }
   ],
   "source": [
    "def autopct_format(x):\n",
    "    return '{:.1f}%\\n({:.0f})'.format(x, df.shape[0] * x / 100)\n",
    "\n",
    "plt.pie([non_outlier, outlier], labels=['Non-Outlier', 'Outlier'], autopct=autopct_format)\n",
    "plt.title('Total_Records')\n",
    "plt.show()"
   ]
  },
  {
   "cell_type": "markdown",
   "id": "7dfa4ad2",
   "metadata": {},
   "source": [
    "## orig_number Duplicates"
   ]
  },
  {
   "cell_type": "code",
   "execution_count": 11,
   "id": "afaecb30",
   "metadata": {
    "scrolled": true
   },
   "outputs": [
    {
     "data": {
      "text/plain": [
       "0         False\n",
       "1         False\n",
       "2         False\n",
       "3         False\n",
       "4         False\n",
       "          ...  \n",
       "224802    False\n",
       "224803    False\n",
       "224804    False\n",
       "224805    False\n",
       "224806    False\n",
       "Length: 224807, dtype: bool"
      ]
     },
     "execution_count": 11,
     "metadata": {},
     "output_type": "execute_result"
    }
   ],
   "source": [
    "df.duplicated(subset=['orig_number'])"
   ]
  },
  {
   "cell_type": "code",
   "execution_count": null,
   "id": "d48c0cf6",
   "metadata": {},
   "outputs": [],
   "source": []
  }
 ],
 "metadata": {
  "kernelspec": {
   "display_name": "Python 3 (ipykernel)",
   "language": "python",
   "name": "python3"
  },
  "language_info": {
   "codemirror_mode": {
    "name": "ipython",
    "version": 3
   },
   "file_extension": ".py",
   "mimetype": "text/x-python",
   "name": "python",
   "nbconvert_exporter": "python",
   "pygments_lexer": "ipython3",
   "version": "3.8.12"
  }
 },
 "nbformat": 4,
 "nbformat_minor": 5
}
